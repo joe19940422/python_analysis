{
 "cells": [
  {
   "cell_type": "code",
   "execution_count": 191,
   "metadata": {},
   "outputs": [],
   "source": [
    "import requests\n",
    "\n",
    "\n",
    "params = {\n",
    "  'access_key': '6d9483427721b5e480d5e20e17ab05dc'\n",
    "}\n",
    "\n",
    "api_result = requests.get('http://api.aviationstack.com/v1/flights?access_key=6d9483427721b5e480d5e20e17ab05dc&flight_status=active&limit=5', params)\n",
    "\n"
   ]
  },
  {
   "cell_type": "code",
   "execution_count": 192,
   "metadata": {},
   "outputs": [
    {
     "name": "stdout",
     "output_type": "stream",
     "text": [
      "{'pagination': {'limit': 5, 'offset': 0, 'count': 5, 'total': 13166}, 'data': [{'flight_date': '2021-01-28', 'flight_status': 'active', 'departure': {'airport': 'Jinjiang', 'timezone': 'Asia/Shanghai', 'iata': 'JJN', 'icao': 'ZSQZ', 'terminal': None, 'gate': '1', 'delay': 15, 'scheduled': '2021-01-28T07:00:00+00:00', 'estimated': '2021-01-28T07:00:00+00:00', 'actual': '2021-01-28T06:58:00+00:00', 'estimated_runway': '2021-01-28T06:58:00+00:00', 'actual_runway': '2021-01-28T06:58:00+00:00'}, 'arrival': {'airport': None, 'timezone': None, 'iata': 'NTG', 'icao': 'ZSNT', 'terminal': 'T3', 'gate': None, 'baggage': '1', 'delay': None, 'scheduled': '2021-01-28T08:40:00+00:00', 'estimated': '2021-01-28T08:40:00+00:00', 'actual': None, 'estimated_runway': None, 'actual_runway': None}, 'airline': {'name': 'Shenzhen Airlines', 'iata': 'ZH', 'icao': 'CSZ'}, 'flight': {'number': '8747', 'iata': 'ZH8747', 'icao': 'CSZ8747', 'codeshared': None}, 'aircraft': None, 'live': None}, {'flight_date': '2021-01-28', 'flight_status': 'active', 'departure': {'airport': 'Jinjiang', 'timezone': 'Asia/Shanghai', 'iata': 'JJN', 'icao': 'ZSQZ', 'terminal': None, 'gate': '1', 'delay': 15, 'scheduled': '2021-01-28T07:00:00+00:00', 'estimated': '2021-01-28T07:00:00+00:00', 'actual': '2021-01-28T06:58:00+00:00', 'estimated_runway': '2021-01-28T06:58:00+00:00', 'actual_runway': '2021-01-28T06:58:00+00:00'}, 'arrival': {'airport': None, 'timezone': None, 'iata': 'NTG', 'icao': 'ZSNT', 'terminal': 'T3', 'gate': None, 'baggage': '1', 'delay': None, 'scheduled': '2021-01-28T08:40:00+00:00', 'estimated': '2021-01-28T08:40:00+00:00', 'actual': None, 'estimated_runway': None, 'actual_runway': None}, 'airline': {'name': 'Shandong Airlines', 'iata': 'SC', 'icao': 'CDG'}, 'flight': {'number': '9071', 'iata': 'SC9071', 'icao': 'CDG9071', 'codeshared': {'airline_name': 'shenzhen airlines', 'airline_iata': 'zh', 'airline_icao': 'csz', 'flight_number': '8747', 'flight_iata': 'zh8747', 'flight_icao': 'csz8747'}}, 'aircraft': None, 'live': None}, {'flight_date': '2021-01-28', 'flight_status': 'active', 'departure': {'airport': 'Jinjiang', 'timezone': 'Asia/Shanghai', 'iata': 'JJN', 'icao': 'ZSQZ', 'terminal': None, 'gate': '1', 'delay': 15, 'scheduled': '2021-01-28T07:00:00+00:00', 'estimated': '2021-01-28T07:00:00+00:00', 'actual': '2021-01-28T06:58:00+00:00', 'estimated_runway': '2021-01-28T06:58:00+00:00', 'actual_runway': '2021-01-28T06:58:00+00:00'}, 'arrival': {'airport': None, 'timezone': None, 'iata': 'NTG', 'icao': 'ZSNT', 'terminal': 'T3', 'gate': None, 'baggage': '1', 'delay': None, 'scheduled': '2021-01-28T08:40:00+00:00', 'estimated': '2021-01-28T08:40:00+00:00', 'actual': None, 'estimated_runway': None, 'actual_runway': None}, 'airline': {'name': 'Kunming Airlines', 'iata': 'KY', 'icao': 'KNA'}, 'flight': {'number': '9747', 'iata': 'KY9747', 'icao': 'KNA9747', 'codeshared': {'airline_name': 'shenzhen airlines', 'airline_iata': 'zh', 'airline_icao': 'csz', 'flight_number': '8747', 'flight_iata': 'zh8747', 'flight_icao': 'csz8747'}}, 'aircraft': None, 'live': None}, {'flight_date': '2021-01-28', 'flight_status': 'active', 'departure': {'airport': 'Ballina Byron Gateway', 'timezone': 'Australia/Sydney', 'iata': 'BNK', 'icao': 'YBNA', 'terminal': None, 'gate': None, 'delay': None, 'scheduled': '2021-01-28T10:55:00+00:00', 'estimated': '2021-01-28T10:55:00+00:00', 'actual': '2021-01-28T10:49:00+00:00', 'estimated_runway': '2021-01-28T10:49:00+00:00', 'actual_runway': '2021-01-28T10:49:00+00:00'}, 'arrival': {'airport': 'Canberra', 'timezone': 'Australia/Sydney', 'iata': 'CBR', 'icao': 'YSCB', 'terminal': '3', 'gate': None, 'baggage': None, 'delay': None, 'scheduled': '2021-01-28T13:15:00+00:00', 'estimated': '2021-01-28T13:15:00+00:00', 'actual': None, 'estimated_runway': None, 'actual_runway': None}, 'airline': {'name': 'FlyPelican', 'iata': 'FP', 'icao': 'FRE'}, 'flight': {'number': '533', 'iata': 'FP533', 'icao': 'FRE533', 'codeshared': None}, 'aircraft': {'registration': 'VH-NTL', 'iata': 'JS32', 'icao': 'JS32', 'icao24': '7C4487'}, 'live': {'updated': '2021-01-28T01:47:28+00:00', 'latitude': -34.57, 'longitude': 150.35, 'altitude': 563.88, 'direction': 180, 'speed_horizontal': 229.644, 'speed_vertical': -12.888, 'is_ground': False}}, {'flight_date': '2021-01-28', 'flight_status': 'active', 'departure': {'airport': 'Kunming', 'timezone': 'Asia/Shanghai', 'iata': 'KMG', 'icao': 'ZPPP', 'terminal': None, 'gate': '31', 'delay': 641, 'scheduled': '2021-01-28T07:55:00+00:00', 'estimated': '2021-01-28T07:55:00+00:00', 'actual': '2021-01-28T18:35:00+00:00', 'estimated_runway': '2021-01-28T18:35:00+00:00', 'actual_runway': '2021-01-28T18:35:00+00:00'}, 'arrival': {'airport': 'Nanchang', 'timezone': 'Asia/Shanghai', 'iata': 'KHN', 'icao': 'ZSCN', 'terminal': 'T2', 'gate': None, 'baggage': '4', 'delay': None, 'scheduled': '2021-01-28T20:30:00+00:00', 'estimated': '2021-01-28T20:30:00+00:00', 'actual': None, 'estimated_runway': None, 'actual_runway': None}, 'airline': {'name': 'Shenzhen Airlines', 'iata': 'ZH', 'icao': 'CSZ'}, 'flight': {'number': '3133', 'iata': 'ZH3133', 'icao': 'CSZ3133', 'codeshared': {'airline_name': 'kunming airlines', 'airline_iata': 'ky', 'airline_icao': 'kna', 'flight_number': '8233', 'flight_iata': 'ky8233', 'flight_icao': 'kna8233'}}, 'aircraft': None, 'live': None}]}\n"
     ]
    }
   ],
   "source": [
    "api_response = api_result.json()\n",
    "\n",
    "print(api_response)\n"
   ]
  },
  {
   "cell_type": "code",
   "execution_count": 194,
   "metadata": {
    "scrolled": true
   },
   "outputs": [
    {
     "name": "stdout",
     "output_type": "stream",
     "text": [
      "INSERT activeflights (flight_date,flight_status,DEPAIRPORT,DEPTIMEZONE,ARRAIRPORT,ARRTIMEZONE,ARRTERMINAL,ARRGATE,AIRLINENAME,FLIGHTNUMBER,AIRCRAFTREGISTRATION,LIVEUPDATED,LATITUDE,LONGITUDE,ALTITUDE,DIRECTION,SPEEDHORIZONTAL,SPEEDVERTICAL,ISGROUND) VALUES ('2021-01-28','active','Jinjiang','Asia/Shanghai','None','None','T3','None','Shenzhen Airlines','8747','','','','','','','','','');\n",
      "INSERT activeflights (flight_date,flight_status,DEPAIRPORT,DEPTIMEZONE,ARRAIRPORT,ARRTIMEZONE,ARRTERMINAL,ARRGATE,AIRLINENAME,FLIGHTNUMBER,AIRCRAFTREGISTRATION,LIVEUPDATED,LATITUDE,LONGITUDE,ALTITUDE,DIRECTION,SPEEDHORIZONTAL,SPEEDVERTICAL,ISGROUND) VALUES ('2021-01-28','active','Jinjiang','Asia/Shanghai','None','None','T3','None','Shandong Airlines','9071','','','','','','','','','');\n",
      "INSERT activeflights (flight_date,flight_status,DEPAIRPORT,DEPTIMEZONE,ARRAIRPORT,ARRTIMEZONE,ARRTERMINAL,ARRGATE,AIRLINENAME,FLIGHTNUMBER,AIRCRAFTREGISTRATION,LIVEUPDATED,LATITUDE,LONGITUDE,ALTITUDE,DIRECTION,SPEEDHORIZONTAL,SPEEDVERTICAL,ISGROUND) VALUES ('2021-01-28','active','Jinjiang','Asia/Shanghai','None','None','T3','None','Kunming Airlines','9747','','','','','','','','','');\n",
      "INSERT activeflights (flight_date,flight_status,DEPAIRPORT,DEPTIMEZONE,ARRAIRPORT,ARRTIMEZONE,ARRTERMINAL,ARRGATE,AIRLINENAME,FLIGHTNUMBER,AIRCRAFTREGISTRATION,LIVEUPDATED,LATITUDE,LONGITUDE,ALTITUDE,DIRECTION,SPEEDHORIZONTAL,SPEEDVERTICAL,ISGROUND) VALUES ('2021-01-28','active','Ballina Byron Gateway','Australia/Sydney','Canberra','Australia/Sydney','3','None','FlyPelican','533','VH-NTL','2021-01-28T01:47:28+00:00','-34.57','150.35','563.88','180','229.644','-12.888','False');\n",
      "INSERT activeflights (flight_date,flight_status,DEPAIRPORT,DEPTIMEZONE,ARRAIRPORT,ARRTIMEZONE,ARRTERMINAL,ARRGATE,AIRLINENAME,FLIGHTNUMBER,AIRCRAFTREGISTRATION,LIVEUPDATED,LATITUDE,LONGITUDE,ALTITUDE,DIRECTION,SPEEDHORIZONTAL,SPEEDVERTICAL,ISGROUND) VALUES ('2021-01-28','active','Kunming','Asia/Shanghai','Nanchang','Asia/Shanghai','T2','None','Shenzhen Airlines','3133','','','','','','','','','');\n"
     ]
    }
   ],
   "source": [
    "import json\n",
    "\n",
    "\n",
    "for dict in api_response.items():\n",
    "    if dict[0]=='data':\n",
    "        #print(dict[1])\n",
    "        #print(type(dict[1]))\n",
    "        for data in dict[1]:\n",
    "            dict = data\n",
    "            for key in dict: \n",
    "                #print(key,dict[key]) \n",
    "                flight_date = str(dict['flight_date'])\n",
    "                flight_status = str(dict['flight_status'])\n",
    "                departure = dict['departure']\n",
    "                for dep in departure:\n",
    "                    #print(dep,departure[dep]) \n",
    "                    DEPAIRPORT = str(departure['airport'])\n",
    "                    DEPTIMEZONE = str(departure['timezone'])\n",
    "                \n",
    "                    \n",
    "                arrival = dict['arrival']\n",
    "                for arr in arrival:\n",
    "                    ARRAIRPORT = str(arrival['airport'])\n",
    "                    ARRTIMEZONE = str(arrival['timezone'])\n",
    "                    ARRTERMINAL = str(arrival['terminal'])\n",
    "                    \n",
    "                    ARRGATE = str(arrival['gate'])\n",
    "                airline = dict['airline']\n",
    "                for air in airline:\n",
    "                    AIRLINENAME = str(airline['name'])\n",
    "                    \n",
    "                flight = dict['flight']\n",
    "                \n",
    "                \n",
    "                for f in flight:\n",
    "                    FLIGHTNUMBER = flight['number']\n",
    "                \n",
    "                aircraft = dict['aircraft']\n",
    "                if dict['aircraft'] is None:\n",
    "                    AIRCRAFTREGISTRATION=''\n",
    "                    \n",
    "                else:\n",
    "                    for air in aircraft:\n",
    "                        \n",
    "                        AIRCRAFTREGISTRATION = aircraft['registration']\n",
    "                    \n",
    "                live = dict['live']\n",
    "                if dict['live'] is None:\n",
    "                    LIVEUPDATED,LATITUDE,LONGITUDE,ALTITUDE,DIRECTION,SPEEDHORIZONTAL,SPEEDVERTICAL,ISGROUND = '','','','','','','',''\n",
    "                else:\n",
    "                    for l in live:\n",
    "                        LIVEUPDATED = str(live['updated'])\n",
    "                        LATITUDE = str(live['latitude'])\n",
    "                        LONGITUDE = str(live['longitude'])\n",
    "                        ALTITUDE = str(live['altitude'])\n",
    "                        DIRECTION = str(live['direction'])\n",
    "                        SPEEDHORIZONTAL = str(live['speed_horizontal'])\n",
    "                        SPEEDVERTICAL = str(live['speed_vertical'])\n",
    "                        ISGROUND = str(live['is_ground'])\n",
    "\n",
    "\n",
    "                \n",
    "#                 print(flight_date+flight_status+\\\n",
    "#                       DEPAIRPORT+DEPTIMEZONE+\\\n",
    "#                       ARRAIRPORT+ARRTIMEZONE+ARRTERMINAL+ARRGATE+\\\n",
    "#                       AIRLINENAME+\\\n",
    "#                       FLIGHTNUMBER+\\\n",
    "#                       AIRCRAFTREGISTRATION+\\\n",
    "#                       LIVEUPDATED+AIRCRAFTREGISTRATION+\\\n",
    "#                      LIVEUPDATED+LATITUDE+LONGITUDE+ALTITUDE+DIRECTION+SPEEDHORIZONTAL+SPEEDVERTICAL+ISGROUND)\n",
    "                dt={}\n",
    "                dt = {'flight_date': flight_date,\\\n",
    "                      'flight_status': flight_status,\\\n",
    "                      'DEPAIRPORT': DEPAIRPORT,\\\n",
    "                      'DEPTIMEZONE': DEPTIMEZONE,\\\n",
    "                      'ARRAIRPORT': ARRAIRPORT,\\\n",
    "                      'ARRTIMEZONE': ARRTIMEZONE,\\\n",
    "                      'ARRTERMINAL': ARRTERMINAL,\\\n",
    "                      'ARRGATE': ARRGATE,\\\n",
    "                      'AIRLINENAME': AIRLINENAME,\\\n",
    "                      'FLIGHTNUMBER': FLIGHTNUMBER,\\\n",
    "                      'AIRCRAFTREGISTRATION': AIRCRAFTREGISTRATION,\\\n",
    "                      'LIVEUPDATED': LIVEUPDATED,\\\n",
    "                      'LATITUDE': LATITUDE,\\\n",
    "                      'LONGITUDE': LONGITUDE,\\\n",
    "                      'ALTITUDE': ALTITUDE,\\\n",
    "                      'DIRECTION': DIRECTION,\\\n",
    "                      'SPEEDHORIZONTAL': SPEEDHORIZONTAL,\\\n",
    "                      'SPEEDVERTICAL': SPEEDVERTICAL,\\\n",
    "                      'ISGROUND': ISGROUND,\\\n",
    "                      \n",
    "                      \n",
    "                     }\n",
    "                #print(dt)\n",
    "                \n",
    "                make_sql(dt,'activeflights')\n",
    "                break\n",
    "                \n",
    "                      #DEPTIMEZONE+ARRAIRPORT+ARRTIMEZONE+ARRTERMINAL+ARRGATE)\n",
    "   \n",
    "                \n",
    "                \n",
    "                #flight_date = dict[flight_date]\n",
    "                #print(flight_date)\n",
    "   \n"
   ]
  },
  {
   "cell_type": "code",
   "execution_count": 193,
   "metadata": {},
   "outputs": [],
   "source": [
    "def make_sql(dt,tb):\n",
    "    \n",
    "\n",
    "    ls = [(k, v) for k, v in dt.items() if v is not None]\n",
    "    sentence = 'INSERT %s (' % tb + ','.join([i[0] for i in ls]) +\\\n",
    "           ') VALUES (' + ','.join(repr(i[1]) for i in ls) + ');'\n",
    "\n",
    "    print(sentence)\n",
    "     \n",
    "\n",
    "    return sentence"
   ]
  },
  {
   "cell_type": "code",
   "execution_count": 183,
   "metadata": {},
   "outputs": [],
   "source": []
  },
  {
   "cell_type": "code",
   "execution_count": null,
   "metadata": {},
   "outputs": [],
   "source": []
  }
 ],
 "metadata": {
  "kernelspec": {
   "display_name": "Python 3",
   "language": "python",
   "name": "python3"
  },
  "language_info": {
   "codemirror_mode": {
    "name": "ipython",
    "version": 3
   },
   "file_extension": ".py",
   "mimetype": "text/x-python",
   "name": "python",
   "nbconvert_exporter": "python",
   "pygments_lexer": "ipython3",
   "version": "3.8.5"
  }
 },
 "nbformat": 4,
 "nbformat_minor": 4
}
