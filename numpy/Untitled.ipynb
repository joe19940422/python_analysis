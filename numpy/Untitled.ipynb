{
 "cells": [
  {
   "cell_type": "code",
   "execution_count": 1,
   "metadata": {},
   "outputs": [],
   "source": [
    "import numpy as np"
   ]
  },
  {
   "cell_type": "code",
   "execution_count": 2,
   "metadata": {},
   "outputs": [
    {
     "name": "stdout",
     "output_type": "stream",
     "text": [
      "int32\n"
     ]
    }
   ],
   "source": []
  },
  {
   "cell_type": "code",
   "execution_count": 28,
   "metadata": {},
   "outputs": [
    {
     "name": "stdout",
     "output_type": "stream",
     "text": [
      "<class 'numpy.ndarray'>\n",
      "[['3184' '0721f133-ec5b-4e2e-a434-9c13401c49fe' '-1' '2013年报email'\n",
      "  '347903721@qq.com' '2017-03-15' '年报' '2019-11-13 00:00:16' '']\n",
      " ['3186' '0721f133-ec5b-4e2e-a434-9c13401c49fe' '-1' '2015年报email'\n",
      "  '347903721@qq.com' '2017-03-15' '年报' '2019-11-13 00:00:16' '']\n",
      " ['3514' '4bd66ff2-e590-4595-8327-ccf2ec25effe' '-1' '2013年报email'\n",
      "  '5367144@qq.com' '2015-05-14' '年报' '2019-11-12 19:13:12' '']]\n",
      "[['0721f133-ec5b-4e2e-a434-9c13401c49fe' '-1']\n",
      " ['0721f133-ec5b-4e2e-a434-9c13401c49fe' '-1']\n",
      " ['0721f133-ec5b-4e2e-a434-9c13401c49fe' '-1']\n",
      " ...\n",
      " ['8de2fb70-3731-4882-ac27-8f7bd62b6cfe' '-1']\n",
      " ['b93f5b81-7cd7-43f0-b3cc-883deab42efe' '-1']\n",
      " ['eaae59d0-079b-4236-9cc2-e82d0a3de5fe' '-1']]\n",
      "['000010c5-5792-4eaa-a058-eb0f0babc5fe'\n",
      " '0000cfc2-b7d1-4b96-8205-004f5476f1fe'\n",
      " '00012734-c220-4a56-84d5-cabc526f5ffe' ...\n",
      " 'fffdaa1e-f19d-4eee-8592-45ade14197fe'\n",
      " 'fffe0410-41d5-436b-bf41-45a39a5121fe'\n",
      " 'ffff5be0-4c2c-4da2-8126-a1e61c31bcfe']\n",
      "[['0721F133-EC5B-4E2E-A434-9C13401C49FE']\n",
      " ['0721F133-EC5B-4E2E-A434-9C13401C49FE']\n",
      " ['0721F133-EC5B-4E2E-A434-9C13401C49FE']\n",
      " ...\n",
      " ['8DE2FB70-3731-4882-AC27-8F7BD62B6CFE']\n",
      " ['B93F5B81-7CD7-43F0-B3CC-883DEAB42EFE']\n",
      " ['EAAE59D0-079B-4236-9CC2-E82D0A3DE5FE']]\n"
     ]
    }
   ],
   "source": [
    "import csv\n",
    "## numpy read csv from local\n",
    "p = 'D:\\\\t_emails'\n",
    "with open(p,encoding = 'utf-8') as f:\n",
    "    data = np.loadtxt(f,str,delimiter = '\u0001',unpack=False)\n",
    "    print(type(data))\n",
    "    print(data[[0,2,4]])\n",
    "    print(data[:,1:3])\n",
    "    data2 = data[:,[1]]\n",
    "    print(np.unique(data2))\n",
    "    print(np.char.upper(data2))\n",
    "    "
   ]
  },
  {
   "cell_type": "code",
   "execution_count": 30,
   "metadata": {},
   "outputs": [
    {
     "name": "stdout",
     "output_type": "stream",
     "text": [
      "['hello world']\n"
     ]
    }
   ],
   "source": [
    "print (np.char.add(['hello'],[' world']))\n"
   ]
  },
  {
   "cell_type": "code",
   "execution_count": 32,
   "metadata": {},
   "outputs": [
    {
     "name": "stdout",
     "output_type": "stream",
     "text": [
      "joe joe joe \n"
     ]
    }
   ],
   "source": [
    "print (np.char.multiply('joe ',3))"
   ]
  },
  {
   "cell_type": "code",
   "execution_count": 33,
   "metadata": {},
   "outputs": [
    {
     "name": "stdout",
     "output_type": "stream",
     "text": [
      "Joe\n"
     ]
    }
   ],
   "source": [
    "print (np.char.capitalize('joe')) #only first letter change for upper"
   ]
  },
  {
   "cell_type": "code",
   "execution_count": 34,
   "metadata": {},
   "outputs": [
    {
     "name": "stdout",
     "output_type": "stream",
     "text": [
      "I Love Netherlands\n"
     ]
    }
   ],
   "source": [
    "print (np.char.title('i love netherlands')) # every word change for upper"
   ]
  },
  {
   "cell_type": "code",
   "execution_count": null,
   "metadata": {},
   "outputs": [],
   "source": []
  }
 ],
 "metadata": {
  "kernelspec": {
   "display_name": "Python 3",
   "language": "python",
   "name": "python3"
  },
  "language_info": {
   "codemirror_mode": {
    "name": "ipython",
    "version": 3
   },
   "file_extension": ".py",
   "mimetype": "text/x-python",
   "name": "python",
   "nbconvert_exporter": "python",
   "pygments_lexer": "ipython3",
   "version": "3.8.5"
  }
 },
 "nbformat": 4,
 "nbformat_minor": 4
}
