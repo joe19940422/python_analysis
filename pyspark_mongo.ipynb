{
 "cells": [
  {
   "cell_type": "code",
   "execution_count": 2,
   "metadata": {},
   "outputs": [],
   "source": [
    "import os\n",
    "os.environ[\"JAVA_HOME\"] = \"/usr/lib/jvm/java-8-openjdk-amd64\"\n",
    "os.environ[\"SPARK_HOME\"] = \"/home/rhyme/spark-2.4.7-bin-hadoop2.7\"\n",
    "import findspark\n",
    "findspark.init()\n",
    "from pyspark.sql import SparkSession, SQLContext\n",
    "from pyspark import SparkConf, SparkContext\n",
    "import pyspark\n",
    "from pyspark.sql.functions import col"
   ]
  },
  {
   "cell_type": "code",
   "execution_count": null,
   "metadata": {},
   "outputs": [],
   "source": [
    "# Task 1 - start Mongodb server, start MongoDB Compass and Connect, upload movies dataset to MongoDB, run from Project folder\n",
    "# sudo mongod --nojournal --dbpath /data/db\n",
    "# mongorestore --host localhost --port 27017 --db sample_mflix --dir ./sample_mflix"
   ]
  },
  {
   "cell_type": "code",
   "execution_count": 5,
   "metadata": {},
   "outputs": [],
   "source": [
    "# task 2 - connect to mongo db, read collection, get schema\n",
    "spark = SparkSession \\\n",
    "    .builder \\\n",
    "    .master('local') \\\n",
    "    .config('spark.jars.packages','org.mongodb.spark:mongo-spark-connector_2.11:2.2.0') \\\n",
    "    .config('spark.mongodb.input.uri','mongodb://127.0.0.1/sample_mflix.movies') \\\n",
    "    .config('spark.mongodb.output.uri','mongodb://127.0.0.1/sample_mflix.analyses') \\\n",
    "    .getOrCreate()"
   ]
  },
  {
   "cell_type": "code",
   "execution_count": 6,
   "metadata": {},
   "outputs": [],
   "source": [
    "data = spark.read.format('com.mongodb.spark.sql.DefaultSource').load()"
   ]
  },
  {
   "cell_type": "code",
   "execution_count": 7,
   "metadata": {},
   "outputs": [
    {
     "name": "stdout",
     "output_type": "stream",
     "text": [
      "root\n",
      " |-- _id: struct (nullable = true)\n",
      " |    |-- oid: string (nullable = true)\n",
      " |-- awards: struct (nullable = true)\n",
      " |    |-- wins: integer (nullable = true)\n",
      " |    |-- nominations: integer (nullable = true)\n",
      " |    |-- text: string (nullable = true)\n",
      " |-- cast: array (nullable = true)\n",
      " |    |-- element: string (containsNull = true)\n",
      " |-- countries: array (nullable = true)\n",
      " |    |-- element: string (containsNull = true)\n",
      " |-- directors: array (nullable = true)\n",
      " |    |-- element: string (containsNull = true)\n",
      " |-- fullplot: string (nullable = true)\n",
      " |-- genres: array (nullable = true)\n",
      " |    |-- element: string (containsNull = true)\n",
      " |-- imdb: struct (nullable = true)\n",
      " |    |-- rating: double (nullable = true)\n",
      " |    |-- votes: integer (nullable = true)\n",
      " |    |-- id: integer (nullable = true)\n",
      " |-- languages: array (nullable = true)\n",
      " |    |-- element: string (containsNull = true)\n",
      " |-- lastupdated: string (nullable = true)\n",
      " |-- metacritic: integer (nullable = true)\n",
      " |-- num_mflix_comments: integer (nullable = true)\n",
      " |-- plot: string (nullable = true)\n",
      " |-- poster: string (nullable = true)\n",
      " |-- rated: string (nullable = true)\n",
      " |-- released: timestamp (nullable = true)\n",
      " |-- runtime: integer (nullable = true)\n",
      " |-- title: string (nullable = true)\n",
      " |-- tomatoes: struct (nullable = true)\n",
      " |    |-- boxOffice: string (nullable = true)\n",
      " |    |-- consensus: string (nullable = true)\n",
      " |    |-- critic: struct (nullable = true)\n",
      " |    |    |-- meter: integer (nullable = true)\n",
      " |    |    |-- numReviews: integer (nullable = true)\n",
      " |    |    |-- rating: double (nullable = true)\n",
      " |    |-- dvd: timestamp (nullable = true)\n",
      " |    |-- fresh: integer (nullable = true)\n",
      " |    |-- lastUpdated: timestamp (nullable = true)\n",
      " |    |-- production: string (nullable = true)\n",
      " |    |-- rotten: integer (nullable = true)\n",
      " |    |-- viewer: struct (nullable = true)\n",
      " |    |    |-- meter: integer (nullable = true)\n",
      " |    |    |-- numReviews: integer (nullable = true)\n",
      " |    |    |-- rating: double (nullable = true)\n",
      " |    |-- website: string (nullable = true)\n",
      " |-- type: string (nullable = true)\n",
      " |-- writers: array (nullable = true)\n",
      " |    |-- element: string (containsNull = true)\n",
      " |-- year: string (nullable = true)\n",
      "\n"
     ]
    }
   ],
   "source": [
    "data.printSchema()"
   ]
  },
  {
   "cell_type": "code",
   "execution_count": 14,
   "metadata": {},
   "outputs": [
    {
     "data": {
      "text/plain": [
       "23539"
      ]
     },
     "execution_count": 14,
     "metadata": {},
     "output_type": "execute_result"
    }
   ],
   "source": [
    "# task 3 - selecting and grouping\n",
    "data.count()"
   ]
  },
  {
   "cell_type": "code",
   "execution_count": 15,
   "metadata": {},
   "outputs": [
    {
     "name": "stdout",
     "output_type": "stream",
     "text": [
      "+--------------------+--------------+--------------------+---------+--------------------+--------------------+--------------------+-----------------+---------+--------------------+----------+------------------+--------------------+--------------------+-------+-------------------+-------+--------------------+--------------------+-----+--------------------+----+\n",
      "|                 _id|        awards|                cast|countries|           directors|            fullplot|              genres|             imdb|languages|         lastupdated|metacritic|num_mflix_comments|                plot|              poster|  rated|           released|runtime|               title|            tomatoes| type|             writers|year|\n",
      "+--------------------+--------------+--------------------+---------+--------------------+--------------------+--------------------+-----------------+---------+--------------------+----------+------------------+--------------------+--------------------+-------+-------------------+-------+--------------------+--------------------+-----+--------------------+----+\n",
      "|[573a1390f29313ca...|[1, 0, 1 win.]|[Charles Kayser, ...|    [USA]|[William K.L. Dic...|A stationary came...|             [Short]|   [5, 6.2, 1189]|     null|2015-08-26 00:03:...|      null|                 1|Three men hammer ...|                null|UNRATED|1893-05-09 00:00:00|      1|    Blacksmith Scene|[,,,,, 2015-06-28...|movie|                null|1893|\n",
      "|[573a1390f29313ca...|[1, 0, 1 win.]|[A.C. Abadie, Gil...|    [USA]|   [Edwin S. Porter]|Among the earlies...|    [Short, Western]| [439, 7.4, 9847]|[English]|2015-08-13 00:27:...|      null|              null|A group of bandit...|https://m.media-a...|   TV-G|1903-12-01 00:00:00|     11|The Great Train R...|[,, [100, 6, 7.6]...|movie|                null|1903|\n",
      "|[573a1390f29313ca...|[1, 0, 1 win.]|[Martin Fuller, M...|    [USA]|    [Harold M. Shaw]|Thanks to the Fre...|[Short, Drama, Fa...|  [488, 7.1, 448]|[English]|2015-08-29 00:27:...|      null|                 2|A young boy, opre...|https://m.media-a...|UNRATED|1912-10-28 00:00:00|     14|The Land Beyond t...|[,,,,, 2015-04-27...|movie|  [Dorothy G. Shore]|1912|\n",
      "|[573a1390f29313ca...|[1, 0, 1 win.]|[Frank Powell, Gr...|    [USA]|     [D.W. Griffith]|A greedy tycoon d...|      [Short, Drama]| [832, 6.6, 1375]|[English]|2015-08-13 00:46:...|      null|                 1|A greedy tycoon d...|                null|      G|1909-12-13 00:00:00|     14|   A Corner in Wheat|[,,,,, 2015-05-11...|movie|                null|1909|\n",
      "|[573a1390f29313ca...|[1, 0, 1 win.]|      [Winsor McCay]|    [USA]|[Winsor McCay, J....|Cartoonist Winsor...|[Animation, Short...|[1737, 7.3, 1034]|[English]|2015-08-29 01:09:...|      null|                 1|Cartoon figures a...|https://m.media-a...|   null|1911-04-08 00:00:00|      7|Winsor McCay, the...|[,,,,, 2015-08-20...|movie|[Winsor McCay (co...|1911|\n",
      "+--------------------+--------------+--------------------+---------+--------------------+--------------------+--------------------+-----------------+---------+--------------------+----------+------------------+--------------------+--------------------+-------+-------------------+-------+--------------------+--------------------+-----+--------------------+----+\n",
      "only showing top 5 rows\n",
      "\n"
     ]
    }
   ],
   "source": [
    "data.show(5)"
   ]
  },
  {
   "cell_type": "code",
   "execution_count": 18,
   "metadata": {},
   "outputs": [
    {
     "data": {
      "text/plain": [
       "[Row(title='Blacksmith Scene', fullplot='A stationary camera looks at a large anvil with a blacksmith behind it and one on either side. The smith in the middle draws a heated metal rod from the fire, places it on the anvil, and all three begin a rhythmic hammering. After several blows, the metal goes back in the fire. One smith pulls out a bottle of beer, and they each take a swig. Then, out comes the glowing metal and the hammering resumes.'),\n",
       " Row(title='The Great Train Robbery', fullplot=\"Among the earliest existing films in American cinema - notable as the first film that presented a narrative story to tell - it depicts a group of cowboy outlaws who hold up a train and rob the passengers. They are then pursued by a Sheriff's posse. Several scenes have color included - all hand tinted.\"),\n",
       " Row(title='The Land Beyond the Sunset', fullplot=\"Thanks to the Fresh Air Fund, a slum child escapes his drunken mother for a day's outing in the country. Upon arriving, he and the other children are told a story about a mythical land of no pain. Rather then return to the slum at day's end, the lad seeks to journey to that beautiful land beyond the sunset.\"),\n",
       " Row(title='A Corner in Wheat', fullplot=\"A greedy tycoon decides, on a whim, to corner the world market in wheat. This doubles the price of bread, forcing the grain's producers into charity lines and further into poverty. The film continues to contrast the ironic differences between the lives of those who work to grow the wheat and the life of the man who dabbles in its sale for profit.\"),\n",
       " Row(title='Winsor McCay, the Famous Cartoonist of the N.Y. Herald and His Moving Comics', fullplot='Cartoonist Winsor McCay agrees to create a large set of drawings that will be photographed and made into a motion picture. The job requires plenty of drawing supplies, and the cartoonist must also overcome some mishaps caused by an assistant. Finally, the work is done, and everyone can see the resulting animated picture.')]"
      ]
     },
     "execution_count": 18,
     "metadata": {},
     "output_type": "execute_result"
    }
   ],
   "source": [
    "data.select(['title','fullplot']).head(5)"
   ]
  },
  {
   "cell_type": "code",
   "execution_count": 19,
   "metadata": {},
   "outputs": [
    {
     "data": {
      "text/plain": [
       "[Row(imdb=Row(id=5, rating='6.2', votes='1189')),\n",
       " Row(imdb=Row(id=439, rating='7.4', votes='9847')),\n",
       " Row(imdb=Row(id=488, rating='7.1', votes='448')),\n",
       " Row(imdb=Row(id=832, rating='6.6', votes='1375')),\n",
       " Row(imdb=Row(id=1737, rating='7.3', votes='1034'))]"
      ]
     },
     "execution_count": 19,
     "metadata": {},
     "output_type": "execute_result"
    }
   ],
   "source": [
    "data.select('imdb').head(5)"
   ]
  },
  {
   "cell_type": "code",
   "execution_count": 20,
   "metadata": {},
   "outputs": [
    {
     "data": {
      "text/plain": [
       "[Row(countries=['USA'], rating='6.2'),\n",
       " Row(countries=['USA'], rating='7.4'),\n",
       " Row(countries=['USA'], rating='7.1'),\n",
       " Row(countries=['USA'], rating='6.6'),\n",
       " Row(countries=['USA'], rating='7.3')]"
      ]
     },
     "execution_count": 20,
     "metadata": {},
     "output_type": "execute_result"
    }
   ],
   "source": [
    "data.select(['countries','imdb.rating']).head(5)"
   ]
  },
  {
   "cell_type": "code",
   "execution_count": 26,
   "metadata": {},
   "outputs": [
    {
     "name": "stdout",
     "output_type": "stream",
     "text": [
      "+---------------+\n",
      "|    avg(rating)|\n",
      "+---------------+\n",
      "|6.6934662236988|\n",
      "+---------------+\n",
      "\n"
     ]
    }
   ],
   "source": [
    "data.select(['imdb.rating']).agg({'rating':'average'}).show()"
   ]
  },
  {
   "cell_type": "code",
   "execution_count": 14,
   "metadata": {},
   "outputs": [
    {
     "name": "stdout",
     "output_type": "stream",
     "text": [
      "+---------------+-----+\n",
      "|      countries|count|\n",
      "+---------------+-----+\n",
      "|          [USA]| 8985|\n",
      "|           [UK]| 1126|\n",
      "|       [France]|  848|\n",
      "|        [Japan]|  671|\n",
      "|        [India]|  555|\n",
      "|       [Canada]|  535|\n",
      "|        [Italy]|  481|\n",
      "|      [Germany]|  383|\n",
      "|      [UK, USA]|  373|\n",
      "|        [Spain]|  289|\n",
      "|    [Australia]|  262|\n",
      "|  [South Korea]|  254|\n",
      "|  [USA, Canada]|  241|\n",
      "|      [USA, UK]|  228|\n",
      "|      [Finland]|  213|\n",
      "|       [Russia]|  198|\n",
      "|[Italy, France]|  191|\n",
      "|    [Hong Kong]|  191|\n",
      "|       [Sweden]|  174|\n",
      "| [USA, Germany]|  161|\n",
      "+---------------+-----+\n",
      "only showing top 20 rows\n",
      "\n"
     ]
    }
   ],
   "source": [
    "genre = data.groupBy(['countries']).count()\n",
    "##genre.show()\n",
    "genre.orderBy(['count'],ascending=False).show()"
   ]
  },
  {
   "cell_type": "code",
   "execution_count": 31,
   "metadata": {},
   "outputs": [],
   "source": [
    "# task 4 - writing results to CSV file\n",
    "genre.withColumn('countries',col('countries').cast('string'))\\\n",
    "    .write.option('header','true').csv('./genre_count.csv')"
   ]
  },
  {
   "cell_type": "code",
   "execution_count": 32,
   "metadata": {},
   "outputs": [],
   "source": [
    "genre.withColumn('countries',col('countries').cast('string'))\\\n",
    "    .coalesce(1).write.option('header','true').csv('./genre_count2.csv')"
   ]
  },
  {
   "cell_type": "code",
   "execution_count": 8,
   "metadata": {},
   "outputs": [],
   "source": [
    "# task 5 - register df as SQL table, run SQL queries\n",
    "data.registerTempTable('data_sql')"
   ]
  },
  {
   "cell_type": "code",
   "execution_count": 11,
   "metadata": {},
   "outputs": [],
   "source": [
    "countries = spark.sql(\"\"\"\n",
    "select countries,count(_id) as count from data_Sql\n",
    "group by countries having count > 100 order by count desc \n",
    "\"\"\")"
   ]
  },
  {
   "cell_type": "code",
   "execution_count": 12,
   "metadata": {},
   "outputs": [
    {
     "name": "stdout",
     "output_type": "stream",
     "text": [
      "+---------------+-----+\n",
      "|      countries|count|\n",
      "+---------------+-----+\n",
      "|          [USA]| 8985|\n",
      "|           [UK]| 1126|\n",
      "|       [France]|  848|\n",
      "|        [Japan]|  671|\n",
      "|        [India]|  555|\n",
      "|       [Canada]|  535|\n",
      "|        [Italy]|  481|\n",
      "|      [Germany]|  383|\n",
      "|      [UK, USA]|  373|\n",
      "|        [Spain]|  289|\n",
      "|    [Australia]|  262|\n",
      "|  [South Korea]|  254|\n",
      "|  [USA, Canada]|  241|\n",
      "|      [USA, UK]|  228|\n",
      "|      [Finland]|  213|\n",
      "|       [Russia]|  198|\n",
      "|[Italy, France]|  191|\n",
      "|    [Hong Kong]|  191|\n",
      "|       [Sweden]|  174|\n",
      "| [USA, Germany]|  161|\n",
      "+---------------+-----+\n",
      "only showing top 20 rows\n",
      "\n"
     ]
    }
   ],
   "source": [
    "countries.show()"
   ]
  },
  {
   "cell_type": "code",
   "execution_count": null,
   "metadata": {},
   "outputs": [],
   "source": []
  },
  {
   "cell_type": "code",
   "execution_count": null,
   "metadata": {},
   "outputs": [],
   "source": [
    "# task 6 - writing results back to MongoDB\n"
   ]
  },
  {
   "cell_type": "code",
   "execution_count": 15,
   "metadata": {},
   "outputs": [],
   "source": [
    " genre.write \\\n",
    "      .format('com.mongodb.spark.sql.DefaultSource')\\\n",
    "      .mode('append')\\\n",
    "      .save()"
   ]
  },
  {
   "cell_type": "code",
   "execution_count": 16,
   "metadata": {},
   "outputs": [],
   "source": [
    "spark.stop()"
   ]
  },
  {
   "cell_type": "code",
   "execution_count": null,
   "metadata": {},
   "outputs": [],
   "source": []
  }
 ],
 "metadata": {
  "kernelspec": {
   "display_name": "Python 3",
   "language": "python",
   "name": "python3"
  },
  "language_info": {
   "codemirror_mode": {
    "name": "ipython",
    "version": 3
   },
   "file_extension": ".py",
   "mimetype": "text/x-python",
   "name": "python",
   "nbconvert_exporter": "python",
   "pygments_lexer": "ipython3",
   "version": "3.6.9"
  }
 },
 "nbformat": 4,
 "nbformat_minor": 4
}
